{
 "cells": [
  {
   "cell_type": "markdown",
   "id": "58875e7a",
   "metadata": {},
   "source": [
    "# Hurricane Analysis"
   ]
  },
  {
   "cell_type": "markdown",
   "id": "9a2d9627",
   "metadata": {},
   "source": [
    "#### Overview"
   ]
  },
  {
   "cell_type": "markdown",
   "id": "633e5dde",
   "metadata": {},
   "source": [
    "This project is slightly different than others you have encountered thus far. Instead of a step-by-step tutorial, this project contains a series of open-ended requirements which describe the project you'll be building. There are many possible ways to correctly fulfill all of these requirements, and you should expect to use the internet, Codecademy, and other resources when you encounter a problem that you cannot easily solve."
   ]
  },
  {
   "cell_type": "markdown",
   "id": "52f01f07",
   "metadata": {},
   "source": [
    "#### Project Goals"
   ]
  },
  {
   "cell_type": "markdown",
   "id": "d9d06c43",
   "metadata": {},
   "source": [
    "You will work to write several functions that organize and manipulate data about Category 5 Hurricanes, the strongest hurricanes as rated by their wind speed. Each one of these functions will use a number of parameters, conditionals, lists, dictionaries, string manipulation, and return statements."
   ]
  },
  {
   "cell_type": "markdown",
   "id": "7fbb9fb5",
   "metadata": {},
   "source": [
    "#### Prerequisites"
   ]
  },
  {
   "cell_type": "markdown",
   "id": "4732a1e8",
   "metadata": {},
   "source": [
    "In order to complete this project, you should have completed the Loops and Dictionaries sections of the [Learn Python 3 Course](https://www.codecademy.com/learn/learn-python-3). This content is also covered in the [Data Scientist Career Path](https://www.codecademy.com/learn/paths/data-science/)."
   ]
  },
  {
   "cell_type": "markdown",
   "id": "1e924903",
   "metadata": {},
   "source": [
    "## Project Requirements"
   ]
  },
  {
   "cell_type": "markdown",
   "id": "35d6f74d",
   "metadata": {},
   "source": [
    "1. Hurricanes, also known as cyclones or typhoons, are one of the most powerful forces of nature on Earth. Due to climate change caused by human activity, the number and intensity of hurricanes has risen, calling for better preparation by the many communities that are devastated by them. As a concerned environmentalist, you want to look at data about the most powerful hurricanes that have occured. \n",
    "\n",
    "   Begin by looking at the `damages` list. The list contains strings representing the total cost in USD(`$`) caused by `34` category 5 hurricanes (wind speeds $\\ge$ 157 mph (252 km/h)) in the Atlantic region. For some of the hurricanes, damage data was not recorded (`\"Damages not recorded\"`), while the rest are written in the format `\"Prefix-B/M\"`, where `B` stands for billions (`1000000000`) and `M` stands for millions (`1000000`).\n",
    "   \n",
    "   Write a function that returns a new list of updated damages where the recorded data is converted to float values and the missing data is retained as `\"Damages not recorded\"`.\n",
    "   \n",
    "   Test your function with the data stored in `damages`."
   ]
  },
  {
   "cell_type": "code",
   "execution_count": 3,
   "id": "d8d3c50b",
   "metadata": {},
   "outputs": [],
   "source": [
    "# damages (USD($)) of hurricanes\n",
    "damages = ['Damages not recorded', '100M', 'Damages not recorded', '40M',\n",
    "          '27.9M', '5M', 'Damages not recorded', '306M', '2M', '65.8M',\n",
    "          '326M', '60.3M', '208M', '1.42B', '25.4M', 'Damages not recorded',\n",
    "          '1.54B', '1.24B', '7.1B', '10B', '26.5B', '6.2B', '5.37B', '23.3B',\n",
    "          '1.01B', '125B', '12B', '29.4B', '1.76B', '720M', '15.1B', '64.8B',\n",
    "          '91.6B', '25.1B']\n",
    "\n",
    "# 1\n",
    "# Update Recorded Damages\n",
    "conversion = {\"M\": 1000000,\n",
    "             \"B\": 1000000000}\n",
    "\n",
    "# test function by updating damages\n"
   ]
  },
  {
   "cell_type": "code",
   "execution_count": null,
   "id": "a35bf822-8698-48c7-898c-ff8e7905caf8",
   "metadata": {},
   "outputs": [
    {
     "name": "stdout",
     "output_type": "stream",
     "text": [
      "['Damages not recorded', 100000000.0, 'Damages not recorded', 40000000.0, 27900000.0, 5000000.0, 'Damages not recorded', 306000000.0, 2000000.0, 65800000.0, 326000000.0, 60300000.0, 208000000.0, 1420000000.0, 25400000.0, 'Damages not recorded', 1540000000.0, 1240000000.0, 7100000000.0, 10000000000.0, 26500000000.0, 6200000000.0, 5370000000.0, 23300000000.0, 1010000000.0, 125000000000.0, 12000000000.0, 29400000000.0, 1760000000.0, 720000000.0, 15100000000.0, 64800000000.0, 91600000000.0, 25100000000.0]\n"
     ]
    }
   ],
   "source": [
    "def damages_details_check(damages):\n",
    "  damage_recorded = []\n",
    "  for damage in damages:\n",
    "    if damage == 'Damages not recorded':\n",
    "      damage_recorded.append(damage)\n",
    "    elif  damage[-1] == \"M\":\n",
    "      new_value = float(damage.strip(\"M\"))\n",
    "      new_value *= conversion[\"M\"]\n",
    "      damage_recorded.append(new_value)\n",
    "    elif damage[-1] == \"B\":\n",
    "      new_value = float(damage.strip(\"B\"))\n",
    "      new_value *= conversion[\"B\"]\n",
    "      damage_recorded.append(new_value)\n",
    "  # print(damage_not_recorded)\n",
    "  return damage_recorded\n",
    "print(damages_details_check(damages))"
   ]
  },
  {
   "cell_type": "markdown",
   "id": "36ac47b6",
   "metadata": {},
   "source": [
    "2. Additional data collected on the `34` strongest Atlantic hurricanes are provided in a series of lists. The data includes:\n",
    "   - `names`: names of the hurricanes\n",
    "   - `months`: months in which the hurricanes occurred\n",
    "   - `years`: years in which the hurricanes occurred\n",
    "   - `max_sustained_winds`: maximum sustained winds (miles per hour) of the hurricanes\n",
    "   - `areas_affected`: list of different areas affected by each of the hurricanes\n",
    "   - `deaths`: total number of deaths caused by each of the hurricanes\n",
    "   \n",
    "   The data is organized such that the data at each index, from `0` to `33`, corresponds to the same hurricane.\n",
    "   \n",
    "   For example, `names[0]` yields the \"Cuba I\" hurricane, which occurred in `months[0]` (October) `years[0]` (1924).\n",
    "   \n",
    "   Write a function that constructs a dictionary made out of the lists, where the keys of the dictionary are the names of the hurricanes, and the values are dictionaries themselves containing a key for each piece of data (`Name`, `Month`, `Year`, `Max Sustained Wind`, `Areas Affected`, `Damage`, `Death`) about the hurricane.\n",
    "   \n",
    "   Thus the key `\"Cuba I\"` would have the value: `{'Name': 'Cuba I', 'Month': 'October', 'Year': 1924, 'Max Sustained Wind': 165, 'Areas Affected': ['Central America', 'Mexico', 'Cuba', 'Florida', 'The Bahamas'], 'Damage': 'Damages not recorded', 'Deaths': 90}`.\n",
    "   \n",
    "   Test your function on the lists of data provided."
   ]
  },
  {
   "cell_type": "code",
   "execution_count": 12,
   "id": "641aa113",
   "metadata": {},
   "outputs": [],
   "source": [
    "# names of hurricanes\n",
    "names = ['Cuba I', 'San Felipe II Okeechobee', 'Bahamas', 'Cuba II', 'CubaBrownsville', 'Tampico', 'Labor Day', 'New England', 'Carol', 'Janet', 'Carla', 'Hattie', 'Beulah', 'Camille', 'Edith', 'Anita', 'David', 'Allen', 'Gilbert', 'Hugo', 'Andrew', 'Mitch', 'Isabel', 'Ivan', 'Emily', 'Katrina', 'Rita', 'Wilma', 'Dean', 'Felix', 'Matthew', 'Irma', 'Maria', 'Michael']\n",
    "\n",
    "# months of hurricanes\n",
    "months = ['October', 'September', 'September', 'November', 'August', 'September', 'September', 'September', 'September', 'September', 'September', 'October', 'September', 'August', 'September', 'September', 'August', 'August', 'September', 'September', 'August', 'October', 'September', 'September', 'July', 'August', 'September', 'October', 'August', 'September', 'October', 'September', 'September', 'October']\n",
    "\n",
    "# years of hurricanes\n",
    "years = [1924, 1928, 1932, 1932, 1933, 1933, 1935, 1938, 1953, 1955, 1961, 1961, 1967, 1969, 1971, 1977, 1979, 1980, 1988, 1989, 1992, 1998, 2003, 2004, 2005, 2005, 2005, 2005, 2007, 2007, 2016, 2017, 2017, 2018]\n",
    "\n",
    "# maximum sustained winds (mph) of hurricanes\n",
    "max_sustained_winds = [165, 160, 160, 175, 160, 160, 185, 160, 160, 175, 175, 160, 160, 175, 160, 175, 175, 190, 185, 160, 175, 180, 165, 165, 160, 175, 180, 185, 175, 175, 165, 180, 175, 160]\n",
    "\n",
    "# areas affected by each hurricane\n",
    "areas_affected = [['Central America', 'Mexico', 'Cuba', 'Florida', 'The Bahamas'], ['Lesser Antilles', 'The Bahamas', 'United States East Coast', 'Atlantic Canada'], ['The Bahamas', 'Northeastern United States'], ['Lesser Antilles', 'Jamaica', 'Cayman Islands', 'Cuba', 'The Bahamas', 'Bermuda'], ['The Bahamas', 'Cuba', 'Florida', 'Texas', 'Tamaulipas'], ['Jamaica', 'Yucatn Peninsula'], ['The Bahamas', 'Florida', 'Georgia', 'The Carolinas', 'Virginia'], ['Southeastern United States', 'Northeastern United States', 'Southwestern Quebec'], ['Bermuda', 'New England', 'Atlantic Canada'], ['Lesser Antilles', 'Central America'], ['Texas', 'Louisiana', 'Midwestern United States'], ['Central America'], ['The Caribbean', 'Mexico', 'Texas'], ['Cuba', 'United States Gulf Coast'], ['The Caribbean', 'Central America', 'Mexico', 'United States Gulf Coast'], ['Mexico'], ['The Caribbean', 'United States East coast'], ['The Caribbean', 'Yucatn Peninsula', 'Mexico', 'South Texas'], ['Jamaica', 'Venezuela', 'Central America', 'Hispaniola', 'Mexico'], ['The Caribbean', 'United States East Coast'], ['The Bahamas', 'Florida', 'United States Gulf Coast'], ['Central America', 'Yucatn Peninsula', 'South Florida'], ['Greater Antilles', 'Bahamas', 'Eastern United States', 'Ontario'], ['The Caribbean', 'Venezuela', 'United States Gulf Coast'], ['Windward Islands', 'Jamaica', 'Mexico', 'Texas'], ['Bahamas', 'United States Gulf Coast'], ['Cuba', 'United States Gulf Coast'], ['Greater Antilles', 'Central America', 'Florida'], ['The Caribbean', 'Central America'], ['Nicaragua', 'Honduras'], ['Antilles', 'Venezuela', 'Colombia', 'United States East Coast', 'Atlantic Canada'], ['Cape Verde', 'The Caribbean', 'British Virgin Islands', 'U.S. Virgin Islands', 'Cuba', 'Florida'], ['Lesser Antilles', 'Virgin Islands', 'Puerto Rico', 'Dominican Republic', 'Turks and Caicos Islands'], ['Central America', 'United States Gulf Coast (especially Florida Panhandle)']]\n",
    "\n",
    "# damages (USD($)) of hurricanes\n",
    "damages = ['Damages not recorded', '100M', 'Damages not recorded', '40M', '27.9M', '5M', 'Damages not recorded', '306M', '2M', '65.8M', '326M', '60.3M', '208M', '1.42B', '25.4M', 'Damages not recorded', '1.54B', '1.24B', '7.1B', '10B', '26.5B', '6.2B', '5.37B', '23.3B', '1.01B', '125B', '12B', '29.4B', '1.76B', '720M', '15.1B', '64.8B', '91.6B', '25.1B']\n",
    "\n",
    "# deaths for each hurricane\n",
    "deaths = [90,4000,16,3103,179,184,408,682,5,1023,43,319,688,259,37,11,2068,269,318,107,65,19325,51,124,17,1836,125,87,45,133,603,138,3057,74]\n",
    "\n",
    "# 2\n",
    "# Create a Table\n",
    "\n",
    "# Create and view the hurricanes dictionary\n"
   ]
  },
  {
   "cell_type": "code",
   "execution_count": 14,
   "id": "e624b407-a04a-4792-b902-47cb45a4ac6e",
   "metadata": {},
   "outputs": [
    {
     "name": "stdout",
     "output_type": "stream",
     "text": [
      "{'Cuba I': {'Name': 'Cuba I', 'Months': 'October', 'Year': 1924, 'Max sustained winds': 165, 'Area affected': ['Central America', 'Mexico', 'Cuba', 'Florida', 'The Bahamas'], 'Deaths': 90, 'Damage': 'Damages not recorded'}, 'San Felipe II Okeechobee': {'Name': 'San Felipe II Okeechobee', 'Months': 'September', 'Year': 1928, 'Max sustained winds': 160, 'Area affected': ['Lesser Antilles', 'The Bahamas', 'United States East Coast', 'Atlantic Canada'], 'Deaths': 4000, 'Damage': '100M'}, 'Bahamas': {'Name': 'Bahamas', 'Months': 'September', 'Year': 1932, 'Max sustained winds': 160, 'Area affected': ['The Bahamas', 'Northeastern United States'], 'Deaths': 16, 'Damage': 'Damages not recorded'}, 'Cuba II': {'Name': 'Cuba II', 'Months': 'November', 'Year': 1932, 'Max sustained winds': 175, 'Area affected': ['Lesser Antilles', 'Jamaica', 'Cayman Islands', 'Cuba', 'The Bahamas', 'Bermuda'], 'Deaths': 3103, 'Damage': '40M'}, 'CubaBrownsville': {'Name': 'CubaBrownsville', 'Months': 'August', 'Year': 1933, 'Max sustained winds': 160, 'Area affected': ['The Bahamas', 'Cuba', 'Florida', 'Texas', 'Tamaulipas'], 'Deaths': 179, 'Damage': '27.9M'}, 'Tampico': {'Name': 'Tampico', 'Months': 'September', 'Year': 1933, 'Max sustained winds': 160, 'Area affected': ['Jamaica', 'Yucatn Peninsula'], 'Deaths': 184, 'Damage': '5M'}, 'Labor Day': {'Name': 'Labor Day', 'Months': 'September', 'Year': 1935, 'Max sustained winds': 185, 'Area affected': ['The Bahamas', 'Florida', 'Georgia', 'The Carolinas', 'Virginia'], 'Deaths': 408, 'Damage': 'Damages not recorded'}, 'New England': {'Name': 'New England', 'Months': 'September', 'Year': 1938, 'Max sustained winds': 160, 'Area affected': ['Southeastern United States', 'Northeastern United States', 'Southwestern Quebec'], 'Deaths': 682, 'Damage': '306M'}, 'Carol': {'Name': 'Carol', 'Months': 'September', 'Year': 1953, 'Max sustained winds': 160, 'Area affected': ['Bermuda', 'New England', 'Atlantic Canada'], 'Deaths': 5, 'Damage': '2M'}, 'Janet': {'Name': 'Janet', 'Months': 'September', 'Year': 1955, 'Max sustained winds': 175, 'Area affected': ['Lesser Antilles', 'Central America'], 'Deaths': 1023, 'Damage': '65.8M'}, 'Carla': {'Name': 'Carla', 'Months': 'September', 'Year': 1961, 'Max sustained winds': 175, 'Area affected': ['Texas', 'Louisiana', 'Midwestern United States'], 'Deaths': 43, 'Damage': '326M'}, 'Hattie': {'Name': 'Hattie', 'Months': 'October', 'Year': 1961, 'Max sustained winds': 160, 'Area affected': ['Central America'], 'Deaths': 319, 'Damage': '60.3M'}, 'Beulah': {'Name': 'Beulah', 'Months': 'September', 'Year': 1967, 'Max sustained winds': 160, 'Area affected': ['The Caribbean', 'Mexico', 'Texas'], 'Deaths': 688, 'Damage': '208M'}, 'Camille': {'Name': 'Camille', 'Months': 'August', 'Year': 1969, 'Max sustained winds': 175, 'Area affected': ['Cuba', 'United States Gulf Coast'], 'Deaths': 259, 'Damage': '1.42B'}, 'Edith': {'Name': 'Edith', 'Months': 'September', 'Year': 1971, 'Max sustained winds': 160, 'Area affected': ['The Caribbean', 'Central America', 'Mexico', 'United States Gulf Coast'], 'Deaths': 37, 'Damage': '25.4M'}, 'Anita': {'Name': 'Anita', 'Months': 'September', 'Year': 1977, 'Max sustained winds': 175, 'Area affected': ['Mexico'], 'Deaths': 11, 'Damage': 'Damages not recorded'}, 'David': {'Name': 'David', 'Months': 'August', 'Year': 1979, 'Max sustained winds': 175, 'Area affected': ['The Caribbean', 'United States East coast'], 'Deaths': 2068, 'Damage': '1.54B'}, 'Allen': {'Name': 'Allen', 'Months': 'August', 'Year': 1980, 'Max sustained winds': 190, 'Area affected': ['The Caribbean', 'Yucatn Peninsula', 'Mexico', 'South Texas'], 'Deaths': 269, 'Damage': '1.24B'}, 'Gilbert': {'Name': 'Gilbert', 'Months': 'September', 'Year': 1988, 'Max sustained winds': 185, 'Area affected': ['Jamaica', 'Venezuela', 'Central America', 'Hispaniola', 'Mexico'], 'Deaths': 318, 'Damage': '7.1B'}, 'Hugo': {'Name': 'Hugo', 'Months': 'September', 'Year': 1989, 'Max sustained winds': 160, 'Area affected': ['The Caribbean', 'United States East Coast'], 'Deaths': 107, 'Damage': '10B'}, 'Andrew': {'Name': 'Andrew', 'Months': 'August', 'Year': 1992, 'Max sustained winds': 175, 'Area affected': ['The Bahamas', 'Florida', 'United States Gulf Coast'], 'Deaths': 65, 'Damage': '26.5B'}, 'Mitch': {'Name': 'Mitch', 'Months': 'October', 'Year': 1998, 'Max sustained winds': 180, 'Area affected': ['Central America', 'Yucatn Peninsula', 'South Florida'], 'Deaths': 19325, 'Damage': '6.2B'}, 'Isabel': {'Name': 'Isabel', 'Months': 'September', 'Year': 2003, 'Max sustained winds': 165, 'Area affected': ['Greater Antilles', 'Bahamas', 'Eastern United States', 'Ontario'], 'Deaths': 51, 'Damage': '5.37B'}, 'Ivan': {'Name': 'Ivan', 'Months': 'September', 'Year': 2004, 'Max sustained winds': 165, 'Area affected': ['The Caribbean', 'Venezuela', 'United States Gulf Coast'], 'Deaths': 124, 'Damage': '23.3B'}, 'Emily': {'Name': 'Emily', 'Months': 'July', 'Year': 2005, 'Max sustained winds': 160, 'Area affected': ['Windward Islands', 'Jamaica', 'Mexico', 'Texas'], 'Deaths': 17, 'Damage': '1.01B'}, 'Katrina': {'Name': 'Katrina', 'Months': 'August', 'Year': 2005, 'Max sustained winds': 175, 'Area affected': ['Bahamas', 'United States Gulf Coast'], 'Deaths': 1836, 'Damage': '125B'}, 'Rita': {'Name': 'Rita', 'Months': 'September', 'Year': 2005, 'Max sustained winds': 180, 'Area affected': ['Cuba', 'United States Gulf Coast'], 'Deaths': 125, 'Damage': '12B'}, 'Wilma': {'Name': 'Wilma', 'Months': 'October', 'Year': 2005, 'Max sustained winds': 185, 'Area affected': ['Greater Antilles', 'Central America', 'Florida'], 'Deaths': 87, 'Damage': '29.4B'}, 'Dean': {'Name': 'Dean', 'Months': 'August', 'Year': 2007, 'Max sustained winds': 175, 'Area affected': ['The Caribbean', 'Central America'], 'Deaths': 45, 'Damage': '1.76B'}, 'Felix': {'Name': 'Felix', 'Months': 'September', 'Year': 2007, 'Max sustained winds': 175, 'Area affected': ['Nicaragua', 'Honduras'], 'Deaths': 133, 'Damage': '720M'}, 'Matthew': {'Name': 'Matthew', 'Months': 'October', 'Year': 2016, 'Max sustained winds': 165, 'Area affected': ['Antilles', 'Venezuela', 'Colombia', 'United States East Coast', 'Atlantic Canada'], 'Deaths': 603, 'Damage': '15.1B'}, 'Irma': {'Name': 'Irma', 'Months': 'September', 'Year': 2017, 'Max sustained winds': 180, 'Area affected': ['Cape Verde', 'The Caribbean', 'British Virgin Islands', 'U.S. Virgin Islands', 'Cuba', 'Florida'], 'Deaths': 138, 'Damage': '64.8B'}, 'Maria': {'Name': 'Maria', 'Months': 'September', 'Year': 2017, 'Max sustained winds': 175, 'Area affected': ['Lesser Antilles', 'Virgin Islands', 'Puerto Rico', 'Dominican Republic', 'Turks and Caicos Islands'], 'Deaths': 3057, 'Damage': '91.6B'}, 'Michael': {'Name': 'Michael', 'Months': 'October', 'Year': 2018, 'Max sustained winds': 160, 'Area affected': ['Central America', 'United States Gulf Coast (especially Florida Panhandle)'], 'Deaths': 74, 'Damage': '25.1B'}}\n"
     ]
    }
   ],
   "source": [
    "table = {}\n",
    "def create_table(names):\n",
    "  for i in names:\n",
    "    table.update({i: {\n",
    "      \"Name\": i,\n",
    "      'Months': months[names.index(i)],\n",
    "      'Year': years[names.index(i)],\n",
    "      'Max sustained winds': max_sustained_winds[names.index(i)],\n",
    "      'Area affected': areas_affected[names.index(i)],\n",
    "      'Deaths': deaths[names.index(i)],\n",
    "      'Damage': damages[names.index(i)]\n",
    "    }})\n",
    "  return table\n",
    "print(create_table(names))"
   ]
  },
  {
   "cell_type": "markdown",
   "id": "6d0a1933",
   "metadata": {},
   "source": [
    "3. In addition to organizing the hurricanes in a dictionary with names as the key, you want to be able to organize the hurricanes by year.\n",
    "\n",
    "   Write a function that converts the current dictionary of hurricanes to a new dictionary, where the keys are years and the values are lists containing a dictionary for each hurricane that occurred in that year.\n",
    "   \n",
    "   For example, the key `1932` would yield the value: `[{'Name': 'Bahamas', 'Month': 'September', 'Year': 1932, 'Max Sustained Wind': 160, 'Areas Affected': ['The Bahamas', 'Northeastern United States'], 'Damage': 'Damage not recorded', 'Deaths': 16}, {'Name': 'Cuba II', 'Month': 'November', 'Year': 1932, 'Max Sustained Wind': 175, 'Areas Affected': ['Lesser Antilles', 'Jamaica', 'Cayman Islands', 'Cuba', 'The Bahamas', 'Bermuda'], 'Damage': 40000000.0, 'Deaths': 3103}]`.\n",
    "   \n",
    "   Test your function on your hurricane dictionary."
   ]
  },
  {
   "cell_type": "code",
   "execution_count": 3,
   "id": "1ef2edea",
   "metadata": {},
   "outputs": [],
   "source": [
    "# 3\n",
    "# Organizing by Year\n",
    "\n",
    "# create a new dictionary of hurricanes with year and key\n"
   ]
  },
  {
   "cell_type": "code",
   "execution_count": 18,
   "id": "b62edfbf-ff45-471c-a8d5-f9e4a0f9078c",
   "metadata": {},
   "outputs": [
    {
     "name": "stdout",
     "output_type": "stream",
     "text": [
      "{'Name': 'Bahamas', 'Months': 'September', 'Year': 1932, 'Max sustained winds': 160, 'Area affected': ['The Bahamas', 'Northeastern United States'], 'Deaths': 16, 'Damage': 'Damages not recorded'}\n",
      "{'Name': 'Cuba II', 'Months': 'November', 'Year': 1932, 'Max sustained winds': 175, 'Area affected': ['Lesser Antilles', 'Jamaica', 'Cayman Islands', 'Cuba', 'The Bahamas', 'Bermuda'], 'Deaths': 3103, 'Damage': '40M'}\n"
     ]
    }
   ],
   "source": [
    "def create_year_table(year):\n",
    "  for values in create_table(names):\n",
    "    if year ==  create_table(names)[values][\"Year\"]:\n",
    "      print(table[values])\n",
    "    \n",
    "create_year_table(1932)"
   ]
  },
  {
   "cell_type": "markdown",
   "id": "66973f77",
   "metadata": {},
   "source": [
    "4. You believe that knowing how often each of the areas of the Atlantic are affected by these strong hurricanes is important for making preparations for future hurricanes.\n",
    "\n",
    "   Write a function that counts how often each area is listed as an affected area of a hurricane. Store and return the results in a dictionary where the keys are the affected areas and the values are counts of how many times the areas were affected.\n",
    "   \n",
    "   Test your function on your hurricane dictionary."
   ]
  },
  {
   "cell_type": "code",
   "execution_count": 21,
   "id": "bff86f77",
   "metadata": {},
   "outputs": [],
   "source": [
    "# 4\n",
    "# Counting Damaged Areas\n",
    "\n",
    "# create dictionary of areas to store the number of hurricanes involved in\n"
   ]
  },
  {
   "cell_type": "code",
   "execution_count": 23,
   "id": "78e6439b-e737-490d-90a0-107378e77e3e",
   "metadata": {},
   "outputs": [
    {
     "name": "stdout",
     "output_type": "stream",
     "text": [
      "{'Louisiana': 1, 'Nicaragua': 1, 'Virgin Islands': 1, 'Hispaniola': 1, 'Bahamas': 2, 'Windward Islands': 1, 'Midwestern United States': 1, 'Honduras': 1, 'United States Gulf Coast': 6, 'Cayman Islands': 1, 'Mexico': 7, 'Cuba': 6, 'Bermuda': 2, 'Tamaulipas': 1, 'Virginia': 1, 'The Caribbean': 8, 'Turks and Caicos Islands': 1, 'Jamaica': 4, 'Georgia': 1, 'Lesser Antilles': 4, 'Florida': 6, 'Ontario': 1, 'United States East Coast': 3, 'U.S. Virgin Islands': 1, 'Colombia': 1, 'Northeastern United States': 2, 'Central America': 9, 'Southeastern United States': 1, 'Venezuela': 3, 'Southwestern Quebec': 1, 'Texas': 4, 'Cape Verde': 1, 'United States Gulf Coast (especially Florida Panhandle)': 1, 'The Carolinas': 1, 'The Bahamas': 7, 'South Florida': 1, 'Antilles': 1, 'Eastern United States': 1, 'Atlantic Canada': 3, 'Dominican Republic': 1, 'New England': 1, 'United States East coast': 1, 'British Virgin Islands': 1, 'Yucatn Peninsula': 3, 'Puerto Rico': 1, 'South Texas': 1, 'Greater Antilles': 2}\n"
     ]
    }
   ],
   "source": [
    "def affected_areas_and_frequency():\n",
    "  merged_list = [places for areas in areas_affected for places in areas]\n",
    "  affected = {}\n",
    "  for i in set(merged_list):\n",
    "    merge_count = merged_list.count(i)\n",
    "    affected.update({i: merge_count})\n",
    "  return affected\n",
    "\n",
    "print(affected_areas_and_frequency())"
   ]
  },
  {
   "cell_type": "markdown",
   "id": "e015eeb3",
   "metadata": {},
   "source": [
    "5. Write a function that finds the area affected by the most hurricanes, and how often it was hit.\n",
    "\n",
    "   Test your function on your affected area dictionary."
   ]
  },
  {
   "cell_type": "code",
   "execution_count": 26,
   "id": "643c73f9",
   "metadata": {},
   "outputs": [],
   "source": [
    "# 5\n",
    "# Calculating Maximum Hurricane Count\n",
    "\n",
    "# find most frequently affected area and the number of hurricanes involved in\n"
   ]
  },
  {
   "cell_type": "code",
   "execution_count": 28,
   "id": "5e173f8b-e409-4dbe-8285-bfe608fa6cae",
   "metadata": {},
   "outputs": [
    {
     "name": "stdout",
     "output_type": "stream",
     "text": [
      "{'Central America': 9}\n"
     ]
    }
   ],
   "source": [
    "def most_hit_area():\n",
    "    affected_areas = affected_areas_and_frequency()  # Store the dictionary\n",
    "    biggest_hit = 0\n",
    "    most_hit = None \n",
    "\n",
    "    for key, value in affected_areas.items():\n",
    "        if value > biggest_hit:\n",
    "            biggest_hit = value\n",
    "            most_hit = key\n",
    "\n",
    "    print({most_hit: biggest_hit})\n",
    "\n",
    "\n",
    "most_hit_area()"
   ]
  },
  {
   "cell_type": "markdown",
   "id": "4c120f59",
   "metadata": {},
   "source": [
    "6. Write a function that finds the hurricane that caused the greatest number of deaths, and how many deaths it caused.\n",
    "\n",
    "   Test your function on your hurricane dictionary."
   ]
  },
  {
   "cell_type": "code",
   "execution_count": 31,
   "id": "ced02448",
   "metadata": {},
   "outputs": [],
   "source": [
    "# 6\n",
    "# Calculating the Deadliest Hurricane\n",
    "\n",
    "# find highest mortality hurricane and the number of deaths\n"
   ]
  },
  {
   "cell_type": "code",
   "execution_count": 33,
   "id": "7b2f62c7-1d2d-4710-9248-a02492573c97",
   "metadata": {},
   "outputs": [
    {
     "name": "stdout",
     "output_type": "stream",
     "text": [
      "{'Mitch': 19325}\n"
     ]
    }
   ],
   "source": [
    "def deadliest_hurricane():\n",
    "  worst_hurricane = {\n",
    "    names[deaths.index(max(deaths))]:max(deaths)\n",
    "  }\n",
    "  print(worst_hurricane)\n",
    "deadliest_hurricane()"
   ]
  },
  {
   "cell_type": "markdown",
   "id": "9ddd39b0",
   "metadata": {},
   "source": [
    "7. Just as hurricanes are rated by their windspeed, you want to try rating hurricanes based on other metrics.\n",
    "\n",
    "   Write a function that rates hurricanes on a mortality scale according to the following ratings, where the key is the rating and the value is the upper bound of deaths for that rating.\n",
    "   \n",
    "   ```py\n",
    "   mortality_scale = {0: 0,\n",
    "   1: 100,\n",
    "   2: 500,\n",
    "   3: 1000,\n",
    "   4: 10000}\n",
    "   ```\n",
    "   \n",
    "   For example, a hurricane with a `1` mortality rating would have resulted in greater than `0` but less than or equal to `100` deaths. A hurricane with a `5` mortality would have resulted in greater than `10000` deaths.\n",
    "   \n",
    "   Store the hurricanes in a new dictionary where the keys are the mortaility ratings and the values are lists containing a dictionary for each hurricane that falls into that mortality rating.\n",
    "   \n",
    "   Test your function on your hurricane dictionary."
   ]
  },
  {
   "cell_type": "code",
   "execution_count": 36,
   "id": "9eea4dc7",
   "metadata": {},
   "outputs": [],
   "source": [
    "# 7\n",
    "# Rating Hurricanes by Mortality\n",
    "\n",
    "# categorize hurricanes in new dictionary with mortality severity as key\n"
   ]
  },
  {
   "cell_type": "code",
   "execution_count": 38,
   "id": "9d84a1a2-5542-4968-85c4-2801942b39d5",
   "metadata": {},
   "outputs": [
    {
     "name": "stdout",
     "output_type": "stream",
     "text": [
      "{'Cuba I': 1, 'San Felipe II Okeechobee': 4, 'Bahamas': 1, 'Cuba II': 4, 'CubaBrownsville': 2, 'Tampico': 2, 'Labor Day': 2, 'New England': 3, 'Carol': 1, 'Janet': 4, 'Carla': 1, 'Hattie': 2, 'Beulah': 3, 'Camille': 2, 'Edith': 1, 'Anita': 1, 'David': 4, 'Allen': 2, 'Gilbert': 2, 'Hugo': 2, 'Andrew': 1, 'Mitch': 4, 'Isabel': 1, 'Ivan': 2, 'Emily': 1, 'Katrina': 4, 'Rita': 2, 'Wilma': 1, 'Dean': 1, 'Felix': 2, 'Matthew': 3, 'Irma': 2, 'Maria': 4, 'Michael': 1}\n"
     ]
    }
   ],
   "source": [
    "def hurricane_ratings():\n",
    "  mortality_scale = {0: 0,\n",
    "                   1: 100,\n",
    "                   2: 500,\n",
    "                   3: 1000,\n",
    "                   4: 10000}\n",
    "  names_and_mortality = [list(item) for item in zip(names, deaths)]\n",
    "  rated_hurricanes = {}\n",
    "  for lists in names_and_mortality:\n",
    "    if lists[1] == 0:\n",
    "      rated_hurricanes.update({lists[0]: 0})\n",
    "    elif lists[1] > 0 and lists[1] <= 100:\n",
    "      rated_hurricanes.update({lists[0]: 1})\n",
    "    elif lists[1] > 100 and lists[1] <= 500:\n",
    "      rated_hurricanes.update({lists[0]: 2})\n",
    "    elif lists[1] > 500 and lists[1] <= 1000:\n",
    "      rated_hurricanes.update({lists[0]: 3})\n",
    "    else:\n",
    "      rated_hurricanes.update({lists[0]: 4})\n",
    "  print(rated_hurricanes)\n",
    "  \n",
    "hurricane_ratings()"
   ]
  },
  {
   "cell_type": "markdown",
   "id": "199b0e1c",
   "metadata": {},
   "source": [
    "8. Write a function that finds the hurricane that caused the greatest damage, and how costly it was.\n",
    "\n",
    "   Test your function on your hurricane dictionary."
   ]
  },
  {
   "cell_type": "code",
   "execution_count": 41,
   "id": "b3dc79b4",
   "metadata": {},
   "outputs": [],
   "source": [
    "# 8\n",
    "# Calculating Hurricane Maximum Damage\n",
    "\n",
    "# find highest damage inducing hurricane and its total cost\n"
   ]
  },
  {
   "cell_type": "code",
   "execution_count": 43,
   "id": "80811756-8dc5-41ed-be4c-eea12e5adfc3",
   "metadata": {},
   "outputs": [
    {
     "ename": "TypeError",
     "evalue": "'>' not supported between instances of 'float' and 'str'",
     "output_type": "error",
     "traceback": [
      "\u001b[1;31m---------------------------------------------------------------------------\u001b[0m",
      "\u001b[1;31mTypeError\u001b[0m                                 Traceback (most recent call last)",
      "Cell \u001b[1;32mIn[43], line 6\u001b[0m\n\u001b[0;32m      2\u001b[0m   cost_demanding_hurricane \u001b[38;5;241m=\u001b[39m {\n\u001b[0;32m      3\u001b[0m     names[deaths\u001b[38;5;241m.\u001b[39mindex(\u001b[38;5;28mmax\u001b[39m(deaths))]:\u001b[38;5;28mmax\u001b[39m(damages_details_check(damages))\n\u001b[0;32m      4\u001b[0m   }\n\u001b[0;32m      5\u001b[0m   \u001b[38;5;28mprint\u001b[39m(cost_demanding_hurricane)\n\u001b[1;32m----> 6\u001b[0m costliest_hurricane()\n",
      "Cell \u001b[1;32mIn[43], line 3\u001b[0m, in \u001b[0;36mcostliest_hurricane\u001b[1;34m()\u001b[0m\n\u001b[0;32m      1\u001b[0m \u001b[38;5;28;01mdef\u001b[39;00m \u001b[38;5;21mcostliest_hurricane\u001b[39m():\n\u001b[0;32m      2\u001b[0m   cost_demanding_hurricane \u001b[38;5;241m=\u001b[39m {\n\u001b[1;32m----> 3\u001b[0m     names[deaths\u001b[38;5;241m.\u001b[39mindex(\u001b[38;5;28mmax\u001b[39m(deaths))]:\u001b[38;5;28mmax\u001b[39m(damages_details_check(damages))\n\u001b[0;32m      4\u001b[0m   }\n\u001b[0;32m      5\u001b[0m   \u001b[38;5;28mprint\u001b[39m(cost_demanding_hurricane)\n",
      "\u001b[1;31mTypeError\u001b[0m: '>' not supported between instances of 'float' and 'str'"
     ]
    }
   ],
   "source": [
    "def costliest_hurricane():\n",
    "  cost_demanding_hurricane = {\n",
    "    names[deaths.index(max(deaths))]:max(damages_details_check(damages))\n",
    "  }\n",
    "  print(cost_demanding_hurricane)\n",
    "costliest_hurricane()"
   ]
  },
  {
   "cell_type": "markdown",
   "id": "58d22ddc",
   "metadata": {},
   "source": [
    "9. Lastly, you want to rate hurricanes according to how much damage they cause.\n",
    "\n",
    "   Write a function that rates hurricanes on a damage scale according to the following ratings, where the key is the rating and the value is the upper bound of damage for that rating.\n",
    "   ```py\n",
    "   damage_scale = {0: 0,\n",
    "   1: 100000000,\n",
    "   2: 1000000000,\n",
    "   3: 10000000000,\n",
    "   4: 50000000000}\n",
    "   ```\n",
    "   \n",
    "   For example, a hurricane with a `1` damage rating would have resulted in damages greater than `0` USD but less than or equal to `100000000` USD. A hurricane with a `5` damage rating would have resulted in damages greater than `50000000000` USD (talk about a lot of money).\n",
    "   \n",
    "   Store the hurricanes in a new dictionary where the keys are damage ratings and the values are lists containing a dictionary for each hurricane that falls into that damage rating.\n",
    "   \n",
    "   Test your function on your hurricane dictionary."
   ]
  },
  {
   "cell_type": "code",
   "execution_count": 46,
   "id": "e543f487",
   "metadata": {},
   "outputs": [],
   "source": [
    "# 9\n",
    "# Rating Hurricanes by Damage\n",
    "damage_scale = {0: 0,\n",
    "                1: 100000000,\n",
    "                2: 1000000000,\n",
    "                3: 10000000000,\n",
    "                4: 50000000000}\n",
    "\n",
    "# categorize hurricanes in new dictionary with damage severity as key\n"
   ]
  },
  {
   "cell_type": "code",
   "execution_count": 48,
   "id": "ff8c4a24-64a4-48e3-813e-8db2476a5268",
   "metadata": {},
   "outputs": [
    {
     "name": "stdout",
     "output_type": "stream",
     "text": [
      "{'Cuba I': 'Damages not recorded', 'San Felipe II Okeechobee': 4, 'Bahamas': 'Damages not recorded', 'Cuba II': 4, 'CubaBrownsville': 4, 'Tampico': 4, 'Labor Day': 'Damages not recorded', 'New England': 4, 'Carol': 4, 'Janet': 4, 'Carla': 4, 'Hattie': 4, 'Beulah': 4, 'Camille': 4, 'Edith': 4, 'Anita': 'Damages not recorded', 'David': 4, 'Allen': 4, 'Gilbert': 4, 'Hugo': 4, 'Andrew': 4, 'Mitch': 4, 'Isabel': 4, 'Ivan': 4, 'Emily': 4, 'Katrina': 4, 'Rita': 4, 'Wilma': 4, 'Dean': 4, 'Felix': 4, 'Matthew': 4, 'Irma': 4, 'Maria': 4, 'Michael': 4}\n"
     ]
    }
   ],
   "source": [
    "def damage_ratings():\n",
    "  damage_recorded = damages_details_check(damages)\n",
    "  damage_scale = {0: 0,\n",
    "                  1: 100000000,\n",
    "                  2: 1000000000,\n",
    "                  3: 10000000000,\n",
    "                  4: 50000000000}\n",
    "  names_and_damages = [list(item) for item in zip(names, damage_recorded)]\n",
    "  rated_damage = {}\n",
    "\n",
    "\n",
    "  for lists in names_and_damages:\n",
    "    if lists[1] == 'Damages not recorded':\n",
    "      rated_damage.update({lists[0]: lists[1]})\n",
    "    else: \n",
    "      if lists[1] == 0:\n",
    "        rated_damage.update({lists[0]: 0})\n",
    "      elif lists[1] > 0 and lists[1] <= 100:\n",
    "        rated_damage.update({lists[0]: 1})\n",
    "      elif lists[1] > 100 and lists[1] <= 500:\n",
    "        rated_damage.update({lists[0]: 2})\n",
    "      elif lists[1] > 500 and lists[1] <= 1000:\n",
    "        rated_damage.update({lists[0]: 3})\n",
    "      else:\n",
    "        rated_damage.update({lists[0]: 4})\n",
    "  print(rated_damage)\n",
    "\n",
    "\n",
    "damage_ratings()"
   ]
  },
  {
   "cell_type": "markdown",
   "id": "928c5fd2",
   "metadata": {},
   "source": [
    "## Solution"
   ]
  },
  {
   "cell_type": "markdown",
   "id": "252616a3",
   "metadata": {},
   "source": [
    "Great work! View the **Hurricane Analysis_Solution.ipynb** file or visit [our forums](https://discuss.codecademy.com/t/hurricane-analysis-challenge-project-python/462363) to compare your project to our sample solution code. You can also learn how to host your own solution on GitHub so you can share it with other learners! Your solution might look different than ours, and that's okay! There are multiple ways to solve these projects, and you'll learn more by seeing others' code."
   ]
  },
  {
   "cell_type": "code",
   "execution_count": null,
   "id": "da8f7141",
   "metadata": {},
   "outputs": [],
   "source": []
  }
 ],
 "metadata": {
  "kernelspec": {
   "display_name": "Python [conda env:base] *",
   "language": "python",
   "name": "conda-base-py"
  },
  "language_info": {
   "codemirror_mode": {
    "name": "ipython",
    "version": 3
   },
   "file_extension": ".py",
   "mimetype": "text/x-python",
   "name": "python",
   "nbconvert_exporter": "python",
   "pygments_lexer": "ipython3",
   "version": "3.12.7"
  },
  "vscode": {
   "interpreter": {
    "hash": "b784193cf0f9970b27f3c12f21dbff8ed97e3cf923dc23fe210654173bc3fdd0"
   }
  }
 },
 "nbformat": 4,
 "nbformat_minor": 5
}
